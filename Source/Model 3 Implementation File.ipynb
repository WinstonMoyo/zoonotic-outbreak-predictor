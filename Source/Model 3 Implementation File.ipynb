{
 "cells": [
  {
   "cell_type": "code",
   "execution_count": 1,
   "metadata": {},
   "outputs": [],
   "source": [
    "import pandas as pd\n",
    "from sklearn.preprocessing import MinMaxScaler, LabelEncoder"
   ]
  },
  {
   "cell_type": "code",
   "execution_count": 2,
   "metadata": {},
   "outputs": [],
   "source": [
    "data_df = pd.read_csv('model 2 dataset.csv')"
   ]
  },
  {
   "cell_type": "code",
   "execution_count": 4,
   "metadata": {},
   "outputs": [],
   "source": [
    "population_data = {\n",
    "    'Brazil': {2015: 207847528, 2016: 206000000, 2017: 212661350, 2018: 208846892, 2019: 211049527, 2020: 212559417, 2021: 213317639, 2022: 214753000},\n",
    "    'Peru': {2015: 29461933, 2016: 31772000, 2017: 32165485, 2018: 32510453, 2019: 32824358, 2020: 33108535, 2021: 33370756, 2022: 33715471},\n",
    "    'Colombia': {2015: 46969940, 2016: 47437512, 2017: 48131078, 2018: 49024465, 2019: 49907985, 2020: 50629997, 2021: 51188173, 2022: 51737944},\n",
    "    'Ecuador': {2015: 15737879, 2016: 16086987, 2017: 16432876, 2018: 16785361, 2019: 17140904, 2020: 17510643, 2021: 17888474, 2022: 18119000},\n",
    "    'Venezuela': {2015: 28833845, 2016: 29137140, 2017: 28439900, 2018: 27157000, 2019: 25999000, 2020: 28259000, 2021: 28302000, 2022: 28326000},\n",
    "    'Guyana': {2015: 769095, 2016: 773303, 2017: 777542, 2018: 781785, 2019: 786028, 2020: 790287, 2021: 794548, 2022: 798667},\n",
    "    'Suriname': {2015: 546636, 2016: 551155, 2017: 556011, 2018: 560918, 2019: 565727, 2020: 570159, 2021: 573952, 2022: 577749},\n",
    "    'Indonesia': {2015: 257563815, 2016: 259587000, 2017: 262787403, 2018: 265015300, 2019: 268074600, 2020: 270203917, 2021: 273523621, 2022: 275501339},\n",
    "    'Malaysia': {2015: 30681500, 2016: 31105000, 2017: 31528600, 2018: 31952200, 2019: 32376000, 2020: 32778900, 2021: 33183000, 2022: 33573700},\n",
    "    'Thailand': {2015: 67959359, 2016: 68200824, 2017: 68517016, 2018: 68863514, 2019: 69183146, 2020: 69428453, 2021: 69799978, 2022: 70078000},\n",
    "    'Cambodia': {2015: 15521440, 2016: 15766290, 2017: 16009410, 2018: 16249790, 2019: 16486540, 2020: 16725473, 2021: 16974560, 2022: 16713015},\n",
    "    'Vietnam': {2015: 91508084, 2016: 92701100, 2017: 93921522, 2018: 95124600, 2019: 96462106, 2020: 97338579, 2021: 98518800, 2022: 99460000},\n",
    "    'Laos': {2015: 6679740, 2016: 6777732, 2017: 6876441, 2018: 6975889, 2019: 7075988, 2020: 7169476, 2021: 7264241, 2022: 7362745}\n",
    "}"
   ]
  },
  {
   "cell_type": "code",
   "execution_count": null,
   "metadata": {},
   "outputs": [],
   "source": [
    "def populate_population_data(df):\n",
    "\n",
    "    df['human_population'] = 0\n",
    "\n",
    "    for index, row in df.iterrows():\n",
    "        country = row['Country']\n",
    "        year = row['Year']\n",
    "\n",
    "        if country in population_data and year in population_data[country]:\n",
    "            df.loc[index, 'human_population'] = population_data[country][year]\n",
    "\n",
    "    return df"
   ]
  },
  {
   "cell_type": "code",
   "execution_count": 6,
   "metadata": {},
   "outputs": [],
   "source": [
    "data_df = populate_population_data(data_df)"
   ]
  },
  {
   "cell_type": "code",
   "execution_count": 7,
   "metadata": {},
   "outputs": [
    {
     "name": "stdout",
     "output_type": "stream",
     "text": [
      "    Country  Year Quarter  Wildlife Population  Deforestation Rate  \\\n",
      "0    Brazil  2015      Q1                 0.58                 0.5   \n",
      "1    Brazil  2015      Q2                 0.59                 0.5   \n",
      "2    Brazil  2015      Q3                 0.58                 0.5   \n",
      "3    Brazil  2015      Q4                 0.59                 0.5   \n",
      "4    Brazil  2016      Q1                 0.59                 0.5   \n",
      "..      ...   ...     ...                  ...                 ...   \n",
      "411    Laos  2021      Q4                 0.52                 0.4   \n",
      "412    Laos  2022      Q1                 0.51                 0.4   \n",
      "413    Laos  2022      Q2                 0.52                 0.4   \n",
      "414    Laos  2022      Q3                 0.52                 0.4   \n",
      "415    Laos  2022      Q4                 0.52                 0.4   \n",
      "\n",
      "     Avg. Temperature (°C)  Avg. Humidity (%)  Outbreak Occurred (0/1)  \\\n",
      "0                     26.9               86.2                        0   \n",
      "1                     27.3               88.7                        0   \n",
      "2                     25.8               83.4                        0   \n",
      "3                     27.1               88.3                        0   \n",
      "4                     26.1               86.2                        1   \n",
      "..                     ...                ...                      ...   \n",
      "411                   27.1               89.8                        0   \n",
      "412                   27.7               89.4                        1   \n",
      "413                   27.9               87.6                        0   \n",
      "414                   27.3               82.5                        0   \n",
      "415                   26.2               85.7                        0   \n",
      "\n",
      "     Proximity to Water Sources  Livestock Population Density  \\\n",
      "0                          0.85                          0.72   \n",
      "1                          0.88                          0.73   \n",
      "2                          0.87                          0.73   \n",
      "3                          0.84                          0.74   \n",
      "4                          0.85                          0.75   \n",
      "..                          ...                           ...   \n",
      "411                        0.69                          0.76   \n",
      "412                        0.70                          0.77   \n",
      "413                        0.73                          0.78   \n",
      "414                        0.72                          0.79   \n",
      "415                        0.69                          0.80   \n",
      "\n",
      "     Species Specificity  human_population  \n",
      "0                   0.95         207847528  \n",
      "1                   0.95         207847528  \n",
      "2                   0.95         207847528  \n",
      "3                   0.95         207847528  \n",
      "4                   0.95         206000000  \n",
      "..                   ...               ...  \n",
      "411                 0.75           7264241  \n",
      "412                 0.75           7362745  \n",
      "413                 0.75           7362745  \n",
      "414                 0.75           7362745  \n",
      "415                 0.75           7362745  \n",
      "\n",
      "[416 rows x 12 columns]\n"
     ]
    }
   ],
   "source": [
    "print(data_df)"
   ]
  },
  {
   "cell_type": "code",
   "execution_count": 8,
   "metadata": {},
   "outputs": [],
   "source": [
    "label_encoder = LabelEncoder()"
   ]
  },
  {
   "cell_type": "code",
   "execution_count": 9,
   "metadata": {},
   "outputs": [],
   "source": [
    "data_df['Country'] = label_encoder.fit_transform(data_df['Country'])"
   ]
  },
  {
   "cell_type": "code",
   "execution_count": 10,
   "metadata": {},
   "outputs": [],
   "source": [
    "data_df['Quarter'] = data_df['Quarter'].map({'Q1': 1, 'Q2': 2, 'Q3': 3, 'Q4': 4})"
   ]
  },
  {
   "cell_type": "code",
   "execution_count": 11,
   "metadata": {},
   "outputs": [],
   "source": [
    "scaler = MinMaxScaler()\n",
    "\n",
    "\n",
    "data_df[['Wildlife Population', 'Deforestation Rate', 'Avg. Temperature (°C)', 'Avg. Humidity (%)', 'Livestock Population Density', 'human_population']] = scaler.fit_transform(\n",
    "    data_df[['Wildlife Population', 'Deforestation Rate', 'Avg. Temperature (°C)', 'Avg. Humidity (%)', 'Livestock Population Density', 'human_population']]\n",
    ")"
   ]
  },
  {
   "cell_type": "code",
   "execution_count": 12,
   "metadata": {},
   "outputs": [
    {
     "name": "stdout",
     "output_type": "stream",
     "text": [
      "     Country  Year  Quarter  Wildlife Population  Deforestation Rate  \\\n",
      "0          0  2015        1             0.458333            0.500000   \n",
      "1          0  2015        2             0.500000            0.500000   \n",
      "2          0  2015        3             0.458333            0.500000   \n",
      "3          0  2015        4             0.500000            0.500000   \n",
      "4          0  2016        1             0.500000            0.500000   \n",
      "..       ...   ...      ...                  ...                 ...   \n",
      "411        6  2021        4             0.208333            0.333333   \n",
      "412        6  2022        1             0.166667            0.333333   \n",
      "413        6  2022        2             0.208333            0.333333   \n",
      "414        6  2022        3             0.208333            0.333333   \n",
      "415        6  2022        4             0.208333            0.333333   \n",
      "\n",
      "     Avg. Temperature (°C)  Avg. Humidity (%)  Outbreak Occurred (0/1)  \\\n",
      "0                 0.444444               0.62                        0   \n",
      "1                 0.555556               0.87                        0   \n",
      "2                 0.138889               0.34                        0   \n",
      "3                 0.500000               0.83                        0   \n",
      "4                 0.222222               0.62                        1   \n",
      "..                     ...                ...                      ...   \n",
      "411               0.500000               0.98                        0   \n",
      "412               0.666667               0.94                        1   \n",
      "413               0.722222               0.76                        0   \n",
      "414               0.555556               0.25                        0   \n",
      "415               0.250000               0.57                        0   \n",
      "\n",
      "     Proximity to Water Sources  Livestock Population Density  \\\n",
      "0                          0.85                      0.426667   \n",
      "1                          0.88                      0.440000   \n",
      "2                          0.87                      0.440000   \n",
      "3                          0.84                      0.453333   \n",
      "4                          0.85                      0.466667   \n",
      "..                          ...                           ...   \n",
      "411                        0.69                      0.480000   \n",
      "412                        0.70                      0.493333   \n",
      "413                        0.73                      0.506667   \n",
      "414                        0.72                      0.520000   \n",
      "415                        0.69                      0.533333   \n",
      "\n",
      "     Species Specificity  human_population  \n",
      "0                   0.95          0.753946  \n",
      "1                   0.95          0.753946  \n",
      "2                   0.95          0.753946  \n",
      "3                   0.95          0.753946  \n",
      "4                   0.95          0.747226  \n",
      "..                   ...               ...  \n",
      "411                 0.75          0.024432  \n",
      "412                 0.75          0.024790  \n",
      "413                 0.75          0.024790  \n",
      "414                 0.75          0.024790  \n",
      "415                 0.75          0.024790  \n",
      "\n",
      "[416 rows x 12 columns]\n"
     ]
    }
   ],
   "source": [
    "print(data_df)"
   ]
  },
  {
   "cell_type": "code",
   "execution_count": 13,
   "metadata": {},
   "outputs": [],
   "source": [
    "X = data_df[['Wildlife Population', 'Deforestation Rate', 'Avg. Temperature (°C)', \n",
    "        'Avg. Humidity (%)','Livestock Population Density', 'Proximity to Water Sources', 'Species Specificity', 'human_population']]\n",
    "y = data_df['Outbreak Occurred (0/1)']"
   ]
  },
  {
   "cell_type": "code",
   "execution_count": 14,
   "metadata": {},
   "outputs": [],
   "source": [
    "from sklearn.ensemble import GradientBoostingClassifier\n",
    "from sklearn.model_selection import train_test_split\n",
    "from sklearn.metrics import accuracy_score, precision_score, recall_score, f1_score, confusion_matrix\n",
    "import matplotlib.pyplot as plt\n",
    "import seaborn as sns"
   ]
  },
  {
   "cell_type": "code",
   "execution_count": 15,
   "metadata": {},
   "outputs": [],
   "source": [
    "X_train, X_test, y_train, y_test = train_test_split(X, y, test_size=0.2, random_state=42)\n"
   ]
  },
  {
   "cell_type": "code",
   "execution_count": 16,
   "metadata": {},
   "outputs": [],
   "source": [
    "model = GradientBoostingClassifier(n_estimators=100, learning_rate=0.1, max_depth=3, random_state=42)\n"
   ]
  },
  {
   "cell_type": "code",
   "execution_count": 17,
   "metadata": {},
   "outputs": [
    {
     "name": "stdout",
     "output_type": "stream",
     "text": [
      "Classification Report:\n",
      "               precision    recall  f1-score   support\n",
      "\n",
      "           0       0.90      0.99      0.94        76\n",
      "           1       0.00      0.00      0.00         8\n",
      "\n",
      "    accuracy                           0.89        84\n",
      "   macro avg       0.45      0.49      0.47        84\n",
      "weighted avg       0.82      0.89      0.85        84\n",
      "\n"
     ]
    }
   ],
   "source": [
    "\n",
    "model.fit(X_train, y_train)\n",
    "\n",
    "y_pred = model.predict(X_test)\n",
    "\n",
    "accuracy = accuracy_score(y_test, y_pred)\n",
    "precision = precision_score(y_test, y_pred)\n",
    "recall = recall_score(y_test, y_pred)\n",
    "f1 = f1_score(y_test, y_pred)\n",
    "\n",
    "from sklearn.metrics import classification_report\n",
    "print(\"Classification Report:\\n\", classification_report(y_test, y_pred))"
   ]
  },
  {
   "cell_type": "code",
   "execution_count": 19,
   "metadata": {},
   "outputs": [
    {
     "data": {
      "image/png": "[encoded data removed]",
      "text/plain": [
       "<Figure size 800x600 with 1 Axes>"
      ]
     },
     "metadata": {},
     "output_type": "display_data"
    },
    {
     "data": {
      "image/png": "[encoded data removed]",
      "text/plain": [
       "<Figure size 600x500 with 1 Axes>"
      ]
     },
     "metadata": {},
     "output_type": "display_data"
    }
   ],
   "source": [
    "metrics = ['Accuracy']\n",
    "values = [accuracy]\n",
    "\n",
    "plt.figure(figsize=(8, 6))\n",
    "plt.bar(metrics, values, color='skyblue')\n",
    "plt.title('Model Performance Metrics')\n",
    "plt.ylabel('Score')\n",
    "plt.ylim(0, 1)\n",
    "plt.show()\n",
    "\n",
    "cm = confusion_matrix(y_test, y_pred)\n",
    "\n",
    "plt.figure(figsize=(6, 5))\n",
    "sns.heatmap(cm, annot=True, fmt='d', cmap='Blues', cbar=False, xticklabels=['No Outbreak', 'Outbreak'], yticklabels=['No Outbreak', 'Outbreak'])\n",
    "plt.title('Confusion Matrix')\n",
    "plt.xlabel('Predicted')\n",
    "plt.ylabel('True')\n",
    "plt.show()"
   ]
  },
  {
   "cell_type": "code",
   "execution_count": 20,
   "metadata": {},
   "outputs": [
    {
     "data": {
      "text/plain": [
       "['model3.pkl']"
      ]
     },
     "execution_count": 20,
     "metadata": {},
     "output_type": "execute_result"
    }
   ],
   "source": [
    "import joblib\n",
    "\n",
    "joblib.dump(model, 'model3.pkl')"
   ]
  },
  {
   "cell_type": "code",
   "execution_count": 22,
   "metadata": {},
   "outputs": [],
   "source": [
    "X_test.to_csv('Model 3 Dataset Prepared.csv', index=False)"
   ]
  }
 ],
 "metadata": {
  "kernelspec": {
   "display_name": "Python 3",
   "language": "python",
   "name": "python3"
  },
  "language_info": {
   "codemirror_mode": {
    "name": "ipython",
    "version": 3
   },
   "file_extension": ".py",
   "mimetype": "text/x-python",
   "name": "python",
   "nbconvert_exporter": "python",
   "pygments_lexer": "ipython3",
   "version": "3.10.7"
  }
 },
 "nbformat": 4,
 "nbformat_minor": 2
}
