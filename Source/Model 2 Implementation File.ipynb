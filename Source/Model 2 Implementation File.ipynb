{
 "cells": [
  {
   "cell_type": "code",
   "execution_count": 1,
   "metadata": {},
   "outputs": [],
   "source": [
    "import pandas as pd\n",
    "from sklearn.preprocessing import MinMaxScaler, LabelEncoder"
   ]
  },
  {
   "cell_type": "code",
   "execution_count": 2,
   "metadata": {},
   "outputs": [],
   "source": [
    "data_df = pd.read_csv('model 2 dataset.csv')"
   ]
  },
  {
   "cell_type": "code",
   "execution_count": 3,
   "metadata": {},
   "outputs": [],
   "source": [
    "label_encoder = LabelEncoder()"
   ]
  },
  {
   "cell_type": "code",
   "execution_count": 4,
   "metadata": {},
   "outputs": [],
   "source": [
    "data_df['Country'] = label_encoder.fit_transform(data_df['Country'])"
   ]
  },
  {
   "cell_type": "code",
   "execution_count": 5,
   "metadata": {},
   "outputs": [],
   "source": [
    "data_df['Quarter'] = data_df['Quarter'].map({'Q1': 1, 'Q2': 2, 'Q3': 3, 'Q4': 4})"
   ]
  },
  {
   "cell_type": "code",
   "execution_count": 6,
   "metadata": {},
   "outputs": [],
   "source": [
    "scaler = MinMaxScaler()\n",
    "\n",
    "\n",
    "data_df[['Wildlife Population', 'Deforestation Rate', 'Avg. Temperature (°C)', 'Avg. Humidity (%)', 'Livestock Population Density']] = scaler.fit_transform(\n",
    "    data_df[['Wildlife Population', 'Deforestation Rate', 'Avg. Temperature (°C)', 'Avg. Humidity (%)', 'Livestock Population Density']]\n",
    ")"
   ]
  },
  {
   "cell_type": "code",
   "execution_count": 7,
   "metadata": {},
   "outputs": [
    {
     "name": "stdout",
     "output_type": "stream",
     "text": [
      "     Country  Year  Quarter  Wildlife Population  Deforestation Rate  \\\n",
      "0          0  2015        1             0.458333            0.500000   \n",
      "1          0  2015        2             0.500000            0.500000   \n",
      "2          0  2015        3             0.458333            0.500000   \n",
      "3          0  2015        4             0.500000            0.500000   \n",
      "4          0  2016        1             0.500000            0.500000   \n",
      "..       ...   ...      ...                  ...                 ...   \n",
      "411        6  2021        4             0.208333            0.333333   \n",
      "412        6  2022        1             0.166667            0.333333   \n",
      "413        6  2022        2             0.208333            0.333333   \n",
      "414        6  2022        3             0.208333            0.333333   \n",
      "415        6  2022        4             0.208333            0.333333   \n",
      "\n",
      "     Avg. Temperature (°C)  Avg. Humidity (%)  Outbreak Occurred (0/1)  \\\n",
      "0                 0.444444               0.62                        0   \n",
      "1                 0.555556               0.87                        0   \n",
      "2                 0.138889               0.34                        0   \n",
      "3                 0.500000               0.83                        0   \n",
      "4                 0.222222               0.62                        1   \n",
      "..                     ...                ...                      ...   \n",
      "411               0.500000               0.98                        0   \n",
      "412               0.666667               0.94                        1   \n",
      "413               0.722222               0.76                        0   \n",
      "414               0.555556               0.25                        0   \n",
      "415               0.250000               0.57                        0   \n",
      "\n",
      "     Proximity to Water Sources  Livestock Population Density  \\\n",
      "0                          0.85                      0.426667   \n",
      "1                          0.88                      0.440000   \n",
      "2                          0.87                      0.440000   \n",
      "3                          0.84                      0.453333   \n",
      "4                          0.85                      0.466667   \n",
      "..                          ...                           ...   \n",
      "411                        0.69                      0.480000   \n",
      "412                        0.70                      0.493333   \n",
      "413                        0.73                      0.506667   \n",
      "414                        0.72                      0.520000   \n",
      "415                        0.69                      0.533333   \n",
      "\n",
      "     Species Specificity  \n",
      "0                   0.95  \n",
      "1                   0.95  \n",
      "2                   0.95  \n",
      "3                   0.95  \n",
      "4                   0.95  \n",
      "..                   ...  \n",
      "411                 0.75  \n",
      "412                 0.75  \n",
      "413                 0.75  \n",
      "414                 0.75  \n",
      "415                 0.75  \n",
      "\n",
      "[416 rows x 11 columns]\n"
     ]
    }
   ],
   "source": [
    "print(data_df)"
   ]
  },
  {
   "cell_type": "code",
   "execution_count": 9,
   "metadata": {},
   "outputs": [],
   "source": [
    "X = data_df[['Wildlife Population', 'Deforestation Rate', 'Avg. Temperature (°C)', \n",
    "        'Avg. Humidity (%)','Livestock Population Density', 'Proximity to Water Sources', 'Species Specificity']]\n",
    "y = data_df['Outbreak Occurred (0/1)']"
   ]
  },
  {
   "cell_type": "code",
   "execution_count": 10,
   "metadata": {},
   "outputs": [],
   "source": [
    "from sklearn.ensemble import GradientBoostingClassifier\n",
    "from sklearn.model_selection import train_test_split\n",
    "from sklearn.metrics import accuracy_score, classification_report"
   ]
  },
  {
   "cell_type": "code",
   "execution_count": 11,
   "metadata": {},
   "outputs": [
    {
     "name": "stdout",
     "output_type": "stream",
     "text": [
      "Accuracy: 90.48%\n",
      "              precision    recall  f1-score   support\n",
      "\n",
      "           0       0.90      1.00      0.95        76\n",
      "           1       0.00      0.00      0.00         8\n",
      "\n",
      "    accuracy                           0.90        84\n",
      "   macro avg       0.45      0.50      0.48        84\n",
      "weighted avg       0.82      0.90      0.86        84\n",
      "\n"
     ]
    },
    {
     "name": "stderr",
     "output_type": "stream",
     "text": [
      "c:\\Users\\Winston Moyo\\AppData\\Local\\Programs\\Python\\Python310\\lib\\site-packages\\sklearn\\metrics\\_classification.py:1469: UndefinedMetricWarning: Precision and F-score are ill-defined and being set to 0.0 in labels with no predicted samples. Use `zero_division` parameter to control this behavior.\n",
      "  _warn_prf(average, modifier, msg_start, len(result))\n",
      "c:\\Users\\Winston Moyo\\AppData\\Local\\Programs\\Python\\Python310\\lib\\site-packages\\sklearn\\metrics\\_classification.py:1469: UndefinedMetricWarning: Precision and F-score are ill-defined and being set to 0.0 in labels with no predicted samples. Use `zero_division` parameter to control this behavior.\n",
      "  _warn_prf(average, modifier, msg_start, len(result))\n",
      "c:\\Users\\Winston Moyo\\AppData\\Local\\Programs\\Python\\Python310\\lib\\site-packages\\sklearn\\metrics\\_classification.py:1469: UndefinedMetricWarning: Precision and F-score are ill-defined and being set to 0.0 in labels with no predicted samples. Use `zero_division` parameter to control this behavior.\n",
      "  _warn_prf(average, modifier, msg_start, len(result))\n"
     ]
    }
   ],
   "source": [
    "\n",
    "X_train, X_test, y_train, y_test = train_test_split(X, y, test_size=0.2, random_state=42)\n",
    "\n",
    "\n",
    "model = GradientBoostingClassifier(n_estimators=100, learning_rate=0.1, max_depth=3, random_state=42)\n",
    "\n",
    "\n",
    "model.fit(X_train, y_train)\n",
    "\n",
    "\n",
    "y_pred = model.predict(X_test)\n",
    "\n",
    "\n",
    "accuracy = accuracy_score(y_test, y_pred)\n",
    "print(f'Accuracy: {accuracy * 100:.2f}%')\n",
    "print(classification_report(y_test, y_pred))\n"
   ]
  },
  {
   "cell_type": "code",
   "execution_count": 12,
   "metadata": {},
   "outputs": [
    {
     "data": {
      "image/png": "[encoded data removed]",
      "text/plain": [
       "<Figure size 1000x600 with 1 Axes>"
      ]
     },
     "metadata": {},
     "output_type": "display_data"
    }
   ],
   "source": [
    "import matplotlib.pyplot as plt\n",
    "import seaborn as sns\n",
    "\n",
    "feature_importances = model.feature_importances_\n",
    "features = X.columns\n",
    "\n",
    "plt.figure(figsize=(10, 6))\n",
    "plt.barh(features, feature_importances, color='skyblue')\n",
    "plt.title('Feature Importance')\n",
    "plt.xlabel('Importance')\n",
    "plt.ylabel('Features')\n",
    "plt.show()"
   ]
  },
  {
   "cell_type": "code",
   "execution_count": 13,
   "metadata": {},
   "outputs": [
    {
     "data": {
      "text/plain": [
       "['model2.pkl']"
      ]
     },
     "execution_count": 13,
     "metadata": {},
     "output_type": "execute_result"
    }
   ],
   "source": [
    "import joblib\n",
    "\n",
    "joblib.dump(model, 'model2.pkl')"
   ]
  },
  {
   "cell_type": "code",
   "execution_count": 16,
   "metadata": {},
   "outputs": [],
   "source": [
    "X_test.to_csv('Model 2 Dataset Prepared.csv', index=False)"
   ]
  },
  {
   "cell_type": "code",
   "execution_count": 17,
   "metadata": {},
   "outputs": [],
   "source": [
    "y_test.to_csv('Ensemble Output Values.csv', index=False)"
   ]
  }
 ],
 "metadata": {
  "kernelspec": {
   "display_name": "Python 3",
   "language": "python",
   "name": "python3"
  },
  "language_info": {
   "codemirror_mode": {
    "name": "ipython",
    "version": 3
   },
   "file_extension": ".py",
   "mimetype": "text/x-python",
   "name": "python",
   "nbconvert_exporter": "python",
   "pygments_lexer": "ipython3",
   "version": "3.10.7"
  }
 },
 "nbformat": 4,
 "nbformat_minor": 2
}
